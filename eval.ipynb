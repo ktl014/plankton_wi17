{
 "cells": [
  {
   "cell_type": "code",
   "execution_count": 1,
   "metadata": {
    "collapsed": true
   },
   "outputs": [],
   "source": [
    "from __future__ import print_function\n",
    "import lmdb\n",
    "import caffe\n",
    "import numpy as np\n",
    "\n",
    "__author__ = 'PedroMorgado'"
   ]
  },
  {
   "cell_type": "code",
   "execution_count": 2,
   "metadata": {
    "collapsed": true
   },
   "outputs": [],
   "source": [
    "def load_lmdb(fn):\n",
    "    env = lmdb.open(fn, readonly=True)\n",
    "    datum = caffe.proto.caffe_pb2.Datum()\n",
    "    with env.begin() as txn:\n",
    "        cursor = txn.cursor()\n",
    "        data, labels = [], []\n",
    "        for _, value in cursor:\n",
    "            datum.ParseFromString(value)\n",
    "            labels.append(datum.label)\n",
    "            data.append(caffe.io.datum_to_array(datum).squeeze())\n",
    "    env.close()\n",
    "    return data, labels"
   ]
  },
  {
   "cell_type": "code",
   "execution_count": 3,
   "metadata": {
    "collapsed": true
   },
   "outputs": [],
   "source": [
    "def prep_image(img):\n",
    "    img = img.astype(float)[:, 14:241, 14:241]             # center crop (img is in shape [C, X, Y])\n",
    "    img -= np.array([104., 117., 123.]).reshape((3,1,1))     # demean (same as in trainval.prototxt\n",
    "    return img"
   ]
  },
  {
   "cell_type": "code",
   "execution_count": 4,
   "metadata": {
    "collapsed": false
   },
   "outputs": [
    {
     "name": "stdout",
     "output_type": "stream",
     "text": [
      "Accuracy 100.0\n"
     ]
    }
   ],
   "source": [
    "gpu_id = 1\n",
    "images, labels = load_lmdb('test.LMDB')\n",
    "\n",
    "caffe.set_mode_gpu()\n",
    "caffe.set_device(gpu_id)\n",
    "deploy = caffe.Net('caffenet/deploy.prototxt', caffe.TEST, weights='model.caffemodel')\n",
    "probs = []\n",
    "for i in range(0, len(images), 25):\n",
    "    batch = [prep_image(img) for img in images[i:i+25]]\n",
    "    batch_size = len(batch)\n",
    "\n",
    "    deploy.blobs['data'].data[:batch_size] = batch\n",
    "    deploy.forward()\n",
    "    # Note np.copy. Otherwise, next forward() step will replace memory\n",
    "    probs.append(np.copy(deploy.blobs['prob'].data[:batch_size, :]))\n",
    "probs = np.concatenate(probs, 0)\n",
    "print('Accuracy', (probs.argmax(1)==np.array(labels)).mean()*100)"
   ]
  }
 ],
 "metadata": {
  "kernelspec": {
   "display_name": "Python 2",
   "language": "python",
   "name": "python2"
  },
  "language_info": {
   "codemirror_mode": {
    "name": "ipython",
    "version": 2
   },
   "file_extension": ".py",
   "mimetype": "text/x-python",
   "name": "python",
   "nbconvert_exporter": "python",
   "pygments_lexer": "ipython2",
   "version": "2.7.6"
  }
 },
 "nbformat": 4,
 "nbformat_minor": 0
}
