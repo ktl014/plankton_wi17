{
 "cells": [
  {
   "cell_type": "code",
   "execution_count": 1,
   "metadata": {
    "ExecuteTime": {
     "end_time": "2018-02-28T05:30:16.448780Z",
     "start_time": "2018-02-28T05:30:16.423563Z"
    }
   },
   "outputs": [],
   "source": [
    "from visualdl import LogReader, LogWriter\n",
    "import random"
   ]
  },
  {
   "cell_type": "code",
   "execution_count": 2,
   "metadata": {
    "ExecuteTime": {
     "end_time": "2018-02-28T05:30:16.602146Z",
     "start_time": "2018-02-28T05:30:16.597484Z"
    }
   },
   "outputs": [],
   "source": [
    "logdir = \"/data3/ludi/plankton_wi17/pose/poseprediction_torch/records/2018-02-27_03:00:04_/log\""
   ]
  },
  {
   "cell_type": "code",
   "execution_count": 3,
   "metadata": {
    "ExecuteTime": {
     "end_time": "2018-02-28T05:30:17.435074Z",
     "start_time": "2018-02-28T05:30:17.430350Z"
    }
   },
   "outputs": [],
   "source": [
    "# # mark the components with 'train' label.\n",
    "# with logger.mode(\"valid\"):\n",
    "#     # create a scalar component called 'scalars/scalar0'\n",
    "#     scalar0 = logger.scalar(\"scalars/valid_loss\")\n",
    "\n",
    "# # add some records during DL model running.\n",
    "# for i, v in enumerate(vl):\n",
    "#     scalar0.add_record(i, v)"
   ]
  },
  {
   "cell_type": "code",
   "execution_count": 4,
   "metadata": {
    "ExecuteTime": {
     "end_time": "2018-02-28T05:30:18.103634Z",
     "start_time": "2018-02-28T05:30:18.096505Z"
    }
   },
   "outputs": [
    {
     "name": "stdout",
     "output_type": "stream",
     "text": [
      "1\n"
     ]
    }
   ],
   "source": [
    "reader = LogReader(logdir)\n",
    "with reader.mode('train'):\n",
    "    records = reader.scalar('scalars/train_err').records()\n",
    "print(len(records))"
   ]
  },
  {
   "cell_type": "code",
   "execution_count": 5,
   "metadata": {
    "ExecuteTime": {
     "end_time": "2018-02-28T05:34:33.666661Z",
     "start_time": "2018-02-28T05:34:33.660805Z"
    }
   },
   "outputs": [],
   "source": [
    "f = open('records/2018-02-27_03:00:04/log/train_err.txt', 'r')"
   ]
  },
  {
   "cell_type": "code",
   "execution_count": 6,
   "metadata": {
    "ExecuteTime": {
     "end_time": "2018-02-28T05:34:34.429234Z",
     "start_time": "2018-02-28T05:34:34.419036Z"
    }
   },
   "outputs": [
    {
     "name": "stdout",
     "output_type": "stream",
     "text": [
      "698.289246\n",
      "\n"
     ]
    }
   ],
   "source": [
    "for l in f:\n",
    "    print(l)\n",
    "    break"
   ]
  },
  {
   "cell_type": "code",
   "execution_count": 8,
   "metadata": {
    "ExecuteTime": {
     "end_time": "2018-02-28T05:34:55.179865Z",
     "start_time": "2018-02-28T05:34:55.173690Z"
    }
   },
   "outputs": [],
   "source": [
    "f1 = open('records/2018-02-27_03:00:04/log/train_err.txt', 'a')\n",
    "f1.write('{:.6f}\\n'.format(123344))\n",
    "f1.close()"
   ]
  },
  {
   "cell_type": "code",
   "execution_count": 5,
   "metadata": {
    "ExecuteTime": {
     "end_time": "2018-02-27T03:16:09.014818Z",
     "start_time": "2018-02-27T03:16:09.006669Z"
    }
   },
   "outputs": [],
   "source": [
    "with logger.mode(\"train\"):\n",
    "    scalar1 = logger.scalar(\"scalars/scalar0\")"
   ]
  },
  {
   "cell_type": "code",
   "execution_count": 6,
   "metadata": {
    "ExecuteTime": {
     "end_time": "2018-02-27T03:16:11.051504Z",
     "start_time": "2018-02-27T03:16:10.918807Z"
    }
   },
   "outputs": [],
   "source": [
    "for i, record in enumerate(records):\n",
    "    scalar1.add_record(i, record)"
   ]
  },
  {
   "cell_type": "code",
   "execution_count": 7,
   "metadata": {
    "ExecuteTime": {
     "end_time": "2018-02-27T03:16:34.110185Z",
     "start_time": "2018-02-27T03:16:33.915974Z"
    }
   },
   "outputs": [],
   "source": [
    "for step in range(len(records), len(records) + 100):\n",
    "    scalar1.add_record(step, step + random.random())"
   ]
  }
 ],
 "metadata": {
  "kernelspec": {
   "display_name": "Python 2",
   "language": "python",
   "name": "python2"
  },
  "language_info": {
   "codemirror_mode": {
    "name": "ipython",
    "version": 2
   },
   "file_extension": ".py",
   "mimetype": "text/x-python",
   "name": "python",
   "nbconvert_exporter": "python",
   "pygments_lexer": "ipython2",
   "version": "2.7.6"
  },
  "varInspector": {
   "cols": {
    "lenName": 16,
    "lenType": 16,
    "lenVar": 40
   },
   "kernels_config": {
    "python": {
     "delete_cmd_postfix": "",
     "delete_cmd_prefix": "del ",
     "library": "var_list.py",
     "varRefreshCmd": "print(var_dic_list())"
    },
    "r": {
     "delete_cmd_postfix": ") ",
     "delete_cmd_prefix": "rm(",
     "library": "var_list.r",
     "varRefreshCmd": "cat(var_dic_list()) "
    }
   },
   "types_to_exclude": [
    "module",
    "function",
    "builtin_function_or_method",
    "instance",
    "_Feature"
   ],
   "window_display": false
  }
 },
 "nbformat": 4,
 "nbformat_minor": 2
}
