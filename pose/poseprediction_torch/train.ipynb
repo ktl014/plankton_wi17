{
 "cells": [
  {
   "cell_type": "code",
   "execution_count": 11,
   "metadata": {
    "ExecuteTime": {
     "end_time": "2018-02-25T01:11:26.722135Z",
     "start_time": "2018-02-25T01:11:26.694219Z"
    }
   },
   "outputs": [],
   "source": [
    "from __future__ import print_function, division\n",
    "\n",
    "import torch\n",
    "import torch.nn as nn\n",
    "import torch.optim as optim\n",
    "from torch.optim import lr_scheduler\n",
    "from torch.autograd import Variable\n",
    "from torch.utils.data import DataLoader\n",
    "import numpy as np\n",
    "import torchvision\n",
    "from torchvision import transforms\n",
    "import matplotlib.pyplot as plt\n",
    "import time\n",
    "import os\n",
    "import copy\n",
    "from utils.data import *\n",
    "from transform import *\n",
    "from dataset import PlanktonDataset\n",
    "from model import PoseModel\n",
    "from visualdl import LogWriter\n",
    "from utils.vis import show_arrow\n",
    "from utils.data import eval_euc_dists\n",
    "import shutil\n",
    "\n",
    "%matplotlib inline"
   ]
  },
  {
   "cell_type": "code",
   "execution_count": 6,
   "metadata": {
    "ExecuteTime": {
     "end_time": "2018-02-25T01:05:42.520406Z",
     "start_time": "2018-02-25T01:05:42.510674Z"
    }
   },
   "outputs": [],
   "source": [
    "log_dir = \"./log\"\n",
    "img_dir = '/data5/Plankton_wi18/rawcolor_db/images'\n",
    "csv_filename = 'data/data_{}.csv'\n",
    "\n",
    "phases = ['train', 'valid', 'test']\n",
    "\n",
    "# dataset_mean, dataset_std = [0.485, 0.456, 0.406], [0.229, 0.224, 0.225]\n",
    "dataset_mean, dataset_std = [0.5, 0.5, 0.5], [1, 1, 1]\n",
    "\n",
    "batch_size = 32\n",
    "\n",
    "_GPU = 2"
   ]
  },
  {
   "cell_type": "code",
   "execution_count": 7,
   "metadata": {
    "ExecuteTime": {
     "end_time": "2018-02-25T01:05:44.053617Z",
     "start_time": "2018-02-25T01:05:43.351401Z"
    }
   },
   "outputs": [],
   "source": [
    "data_transform = {\n",
    "    'train': transforms.Compose([\n",
    "        Rescale((224, 224)),\n",
    "        RandomHorizontalFlip(),\n",
    "        RandomVerticalFlip(),\n",
    "        ToTensor(),\n",
    "        Normalize(dataset_mean, dataset_std)\n",
    "    ]),\n",
    "    'valid': transforms.Compose([\n",
    "        Rescale((224, 224)),\n",
    "        ToTensor(),\n",
    "        Normalize(dataset_mean, dataset_std)\n",
    "    ]),\n",
    "    'test': transforms.Compose([\n",
    "        Rescale((224, 224)),\n",
    "        ToTensor(),\n",
    "        Normalize(dataset_mean, dataset_std)\n",
    "    ])\n",
    "}\n",
    "\n",
    "datasets = {x: PlanktonDataset(csv_file=csv_filename.format(x),\n",
    "                               img_dir=img_dir,\n",
    "                               transform=data_transform[x])\n",
    "            for x in phases}\n",
    "\n",
    "dataloaders = {x: DataLoader(datasets[x], batch_size=batch_size,\n",
    "                             shuffle=True, num_workers=4)\n",
    "               for x in phases}\n",
    "\n",
    "dataset_sizes = {x: len(datasets[x]) for x in phases}\n",
    "\n",
    "use_gpu = torch.cuda.is_available()\n",
    "\n",
    "n_per_epoch = int(np.ceil(len(datasets['train']) / batch_size))\n",
    "\n",
    "losses, errs = {}, {}"
   ]
  },
  {
   "cell_type": "code",
   "execution_count": 12,
   "metadata": {
    "ExecuteTime": {
     "end_time": "2018-02-25T01:11:30.842007Z",
     "start_time": "2018-02-25T01:11:30.834760Z"
    }
   },
   "outputs": [],
   "source": [
    "def save_checkpoint(state, is_best, filename='checkpoint.pth.tar'):\n",
    "    torch.save(state, filename)\n",
    "    if is_best:\n",
    "        shutil.copyfile(filename, 'model_best.pth.tar')"
   ]
  },
  {
   "cell_type": "code",
   "execution_count": 13,
   "metadata": {
    "ExecuteTime": {
     "end_time": "2018-02-25T01:11:31.227913Z",
     "start_time": "2018-02-25T01:11:31.114166Z"
    }
   },
   "outputs": [],
   "source": [
    "def train_model(model, criterion, optimizer, scheduler, logger, num_epoch=25):\n",
    "    since = time.time()\n",
    "    best_model_wts = copy.deepcopy(model.state_dict())\n",
    "    best_err = float('inf')\n",
    "    is_best = False\n",
    "    \n",
    "    for phase in ['train', 'valid']:\n",
    "        try:\n",
    "            with logger.mode(phase):\n",
    "                if phase not in losses:\n",
    "                    losses[phase] = logger.scalar('scalars/{}_loss'.format(phase))\n",
    "                if phase not in errs:\n",
    "                    errs[phase] = logger.scalar('scalars/{}_err'.format(phase))\n",
    "            cnt = 0\n",
    "        except:\n",
    "            pass\n",
    "    \n",
    "    for epoch in range(num_epoch):\n",
    "        print('Epoch {}/{}'.format(epoch, num_epoch))\n",
    "        print('-' * 10)\n",
    "        \n",
    "        for phase in ['train', 'valid']:\n",
    "            if phase == 'train':\n",
    "                scheduler.step()\n",
    "                model.train(True)\n",
    "            else:\n",
    "                model.train(False)\n",
    "                \n",
    "            running_loss = 0.0\n",
    "            running_err = 0.0\n",
    "            \n",
    "            for data in dataloaders[phase]:\n",
    "                inputs, target, coordinates = data['image'], data['target_map'], data['coordinates']\n",
    "                \n",
    "                if use_gpu:\n",
    "                    inputs = Variable(inputs.cuda(_GPU))\n",
    "                    target = Variable(target.cuda(_GPU))\n",
    "                else:\n",
    "                    inputs, target = Variable(inputs), Variable(target)\n",
    "                    \n",
    "                optimizer.zero_grad()\n",
    "                \n",
    "                outputs = model(inputs)\n",
    "                loss = criterion(outputs, target)\n",
    "                err = eval_euc_dists(outputs.cpu().data.numpy(), coordinates.numpy())\n",
    "                \n",
    "                if phase == 'train':\n",
    "                    loss.backward()\n",
    "                    optimizer.step()\n",
    "                    \n",
    "                    losses[phase].add_record(cnt, loss.data[0])\n",
    "                    errs[phase].add_record(cnt, err['average'])\n",
    "                    cnt += 1\n",
    "                    \n",
    "                running_loss += loss.data[0] * inputs.size(0)\n",
    "                running_err += err['average'] * inputs.size(0)\n",
    "            \n",
    "            epoch_loss = running_loss / dataset_sizes[phase]\n",
    "            epoch_err = running_err / dataset_sizes[phase]\n",
    "            \n",
    "            if phase == 'valid':\n",
    "                losses[phase].add_record(epoch, epoch_loss)\n",
    "                errs[phase].add_record(epoch, epoch_err)\n",
    "                if epoch_err < best_err:\n",
    "                    is_best = True\n",
    "                    best_err = epoch_err\n",
    "                    best_model_wts = copy.deepcopy(model.state_dict())\n",
    "            \n",
    "            print('{} Loss: {:.4f}'. format(phase, epoch_loss))            \n",
    "        \n",
    "        save_checkpoint({\n",
    "            'epoch': epoch,\n",
    "            'state_dict': model.state_dict(),\n",
    "            'best_err': best_err,\n",
    "            'optimizer' : optimizer.state_dict(),\n",
    "        }, is_best)\n",
    "        \n",
    "        print()\n",
    "            \n",
    "    time_elapsed = time.time() - since\n",
    "    print('Training complete in {:0f}, {:0f}s'.format(\n",
    "        time_elapsed // 60, time_elapsed % 60))\n",
    "    print('Best val loss: {:4f}'.format(best_loss))\n",
    "\n",
    "    model.load_state_dict(best_model_wts)\n",
    "    return model"
   ]
  },
  {
   "cell_type": "code",
   "execution_count": 15,
   "metadata": {
    "ExecuteTime": {
     "end_time": "2018-02-25T01:14:44.693485Z",
     "start_time": "2018-02-25T01:14:33.457293Z"
    }
   },
   "outputs": [],
   "source": [
    "model = PoseModel().cuda(_GPU)\n",
    "\n",
    "criterion = nn.MSELoss()\n",
    "\n",
    "# optimizer = optim.SGD(model.parameters(), lr=0.001, momentum=0.9)\n",
    "optimizer = optim.Adam(model.parameters(), weight_decay=0.0005)\n",
    "\n",
    "exp_lr_scheduler = lr_scheduler.StepLR(optimizer, step_size=7, gamma=0.1)\n",
    "\n",
    "logger = LogWriter(log_dir, sync_cycle=10)"
   ]
  },
  {
   "cell_type": "code",
   "execution_count": null,
   "metadata": {
    "ExecuteTime": {
     "start_time": "2018-02-25T01:14:47.168Z"
    }
   },
   "outputs": [
    {
     "name": "stdout",
     "output_type": "stream",
     "text": [
      "Epoch 0/25\n",
      "----------\n",
      "train Loss: 0.5571\n",
      "valid Loss: 0.0522\n",
      "\n",
      "Epoch 1/25\n",
      "----------\n",
      "train Loss: 0.0437\n",
      "valid Loss: 0.0353\n",
      "\n",
      "Epoch 2/25\n",
      "----------\n",
      "train Loss: 0.0289\n",
      "valid Loss: 0.0238\n",
      "\n",
      "Epoch 3/25\n",
      "----------\n",
      "train Loss: 0.0218\n",
      "valid Loss: 0.0207\n",
      "\n",
      "Epoch 4/25\n",
      "----------\n",
      "train Loss: 0.0205\n",
      "valid Loss: 0.0201\n",
      "\n",
      "Epoch 5/25\n",
      "----------\n",
      "train Loss: 0.0202\n",
      "valid Loss: 0.0197\n",
      "\n",
      "Epoch 6/25\n",
      "----------\n"
     ]
    }
   ],
   "source": [
    "model = train_model(model, criterion, optimizer, exp_lr_scheduler, logger, num_epoch=25)"
   ]
  },
  {
   "cell_type": "code",
   "execution_count": null,
   "metadata": {},
   "outputs": [],
   "source": [
    "def get_belief_map(model, image):\n",
    "    batch_image = image.unsqueeze(0)\n",
    "    return model(batch_image).data[0]"
   ]
  }
 ],
 "metadata": {
  "kernelspec": {
   "display_name": "Python 2",
   "language": "python",
   "name": "python2"
  },
  "language_info": {
   "codemirror_mode": {
    "name": "ipython",
    "version": 2
   },
   "file_extension": ".py",
   "mimetype": "text/x-python",
   "name": "python",
   "nbconvert_exporter": "python",
   "pygments_lexer": "ipython2",
   "version": "2.7.6"
  },
  "varInspector": {
   "cols": {
    "lenName": 16,
    "lenType": 16,
    "lenVar": 40
   },
   "kernels_config": {
    "python": {
     "delete_cmd_postfix": "",
     "delete_cmd_prefix": "del ",
     "library": "var_list.py",
     "varRefreshCmd": "print(var_dic_list())"
    },
    "r": {
     "delete_cmd_postfix": ") ",
     "delete_cmd_prefix": "rm(",
     "library": "var_list.r",
     "varRefreshCmd": "cat(var_dic_list()) "
    }
   },
   "oldHeight": 284,
   "position": {
    "height": "851px",
    "left": "1539px",
    "right": "20px",
    "top": "125px",
    "width": "350px"
   },
   "types_to_exclude": [
    "module",
    "function",
    "builtin_function_or_method",
    "instance",
    "_Feature"
   ],
   "varInspector_section_display": "block",
   "window_display": true
  }
 },
 "nbformat": 4,
 "nbformat_minor": 2
}
