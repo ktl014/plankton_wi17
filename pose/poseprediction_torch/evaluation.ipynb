{
 "cells": [
  {
   "cell_type": "code",
   "execution_count": null,
   "metadata": {},
   "outputs": [],
   "source": [
    "checkpoints = torch.load('model_checkpoints/checkpoint.pth.tar')\n",
    "model.load_state_dict(checkpoints['state_dict'])"
   ]
  },
  {
   "cell_type": "code",
   "execution_count": null,
   "metadata": {},
   "outputs": [],
   "source": [
    "for data in dataloaders['test']:\n",
    "    model.eval()\n",
    "    inputs, target, coordinates = data0['image'], data0['target_map'], data0['coordinates']\n",
    "    \n",
    "    if use_gpu:\n",
    "        inputs = Variable(inputs.cuda(_GPU))\n",
    "        target = Variable(target.cuda(_GPU))\n",
    "    else:\n",
    "        inputs, target = Variable(inputs), Variable(target)\n",
    "    \n",
    "    outputs = model(inputs)\n",
    "    pred_maps = outputs.cpu().data[0].numpy()\n",
    "    for pred_map in pred_maps:\n",
    "        plt.figure()\n",
    "        plt.imshow(pred_map, cmap='gray')\n",
    "    \n",
    "    data0 = normalize.recover(data)\n",
    "    images = data0['image']\n",
    "    \n",
    "    plt.figure()\n",
    "    show_arrow(images[0], coordinates[0], None)\n",
    "\n",
    "    break"
   ]
  },
  {
   "cell_type": "code",
   "execution_count": null,
   "metadata": {},
   "outputs": [],
   "source": [
    "def get_belief_map(model, image):\n",
    "    batch_image = image.unsqueeze(0)\n",
    "    return model(batch_image).data[0]"
   ]
  }
 ],
 "metadata": {
  "kernelspec": {
   "display_name": "Python 2",
   "language": "python",
   "name": "python2"
  },
  "language_info": {
   "codemirror_mode": {
    "name": "ipython",
    "version": 2
   },
   "file_extension": ".py",
   "mimetype": "text/x-python",
   "name": "python",
   "nbconvert_exporter": "python",
   "pygments_lexer": "ipython2",
   "version": "2.7.6"
  },
  "varInspector": {
   "cols": {
    "lenName": 16,
    "lenType": 16,
    "lenVar": 40
   },
   "kernels_config": {
    "python": {
     "delete_cmd_postfix": "",
     "delete_cmd_prefix": "del ",
     "library": "var_list.py",
     "varRefreshCmd": "print(var_dic_list())"
    },
    "r": {
     "delete_cmd_postfix": ") ",
     "delete_cmd_prefix": "rm(",
     "library": "var_list.r",
     "varRefreshCmd": "cat(var_dic_list()) "
    }
   },
   "types_to_exclude": [
    "module",
    "function",
    "builtin_function_or_method",
    "instance",
    "_Feature"
   ],
   "window_display": false
  }
 },
 "nbformat": 4,
 "nbformat_minor": 2
}
