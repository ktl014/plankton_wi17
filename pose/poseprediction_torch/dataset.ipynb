{
 "cells": [
  {
   "cell_type": "code",
   "execution_count": 2,
   "metadata": {
    "ExecuteTime": {
     "end_time": "2018-03-03T10:00:58.703623Z",
     "start_time": "2018-03-03T10:00:55.400537Z"
    },
    "collapsed": false
   },
   "outputs": [],
   "source": [
    "import matplotlib\n",
    "matplotlib.use('Agg')\n",
    "from matplotlib import pyplot as plt\n",
    "from torch.utils.data import Dataset\n",
    "from utils.data import read_csv, data_filter,get_belief_map\n",
    "from utils.constants import *\n",
    "import os\n",
    "import numpy as np\n",
    "import pandas as pd\n",
    "from skimage import io\n",
    "# from transform import Rescale, RandomHorizontalFlip, RandomVerticalFlip, ToTensor, RandomRotation\n",
    "from utils.vis import show_arrow_batch, show_image_batch\n",
    "from torch.utils.data import DataLoader\n",
    "from torchvision import transforms\n",
    "from dataset import PlanktonDataset"
   ]
  },
  {
   "cell_type": "code",
   "execution_count": 3,
   "metadata": {
    "ExecuteTime": {
     "end_time": "2018-03-03T10:00:59.795350Z",
     "start_time": "2018-03-03T10:00:59.792138Z"
    },
    "collapsed": true
   },
   "outputs": [],
   "source": [
    "img_dir = '/data5/Plankton_wi18/rawcolor_db2/images'\n",
    "csv_filename = '/data3/ludi/plankton_wi17/pose/poseprediction_torch/data/pose_class/data_train_1.csv'"
   ]
  },
  {
   "cell_type": "code",
   "execution_count": 4,
   "metadata": {
    "collapsed": true
   },
   "outputs": [],
   "source": [
    "def randomAngle(a,b):\n",
    "    return np.random.rand((1))*(b - a) + a"
   ]
  },
  {
   "cell_type": "code",
   "execution_count": 5,
   "metadata": {
    "collapsed": false
   },
   "outputs": [],
   "source": [
    "class RandomRotation():\n",
    "    def __init__(self,angleFx,params):\n",
    "        self.angleFx = angleFx\n",
    "        self.params = params\n",
    "        \n",
    "    def __call__(self, sample):\n",
    "        image, coordinates, target_map = sample['image'], sample['coordinates'], sample['target_map']\n",
    "        x_axis = np.array([1,0])\n",
    "        \n",
    "        h = image.shape[0]\n",
    "        w = image.shape[1]\n",
    "    \n",
    "        head = np.array((int(coordinates[0] * w), int(coordinates[1] * h)))\n",
    "        tail = np.array((int(coordinates[2] * w), int(coordinates[3] * h)))\n",
    "        \n",
    "        pose = np.array([head[0] - tail[0],head[1] - tail[1]])\n",
    "        dot = np.dot(x_axis,pose)\n",
    "        norm = np.linalg.norm(pose,axis=0)\n",
    "        \n",
    "        copy = {key: sample[key] for key in sample}\n",
    "        if norm == 0:\n",
    "            image = image.copy()\n",
    "            coordinates = coordinates.copy()\n",
    "            target_map = target_map.copy()\n",
    "            \n",
    "            copy['image'], copy['coordinates'], copy['target_map'] = image, coordinates, target_map\n",
    "        else:\n",
    "            angle = np.arccos(np.divide(dot,norm))\n",
    "\n",
    "            if pose[1] < 0:\n",
    "                angle = 2*np.pi - angle\n",
    "\n",
    "            desired_ang = self.angleFx(*self.params)\n",
    "            rotation_ang = desired_ang - angle\n",
    "            center = np.vstack(((head[0] + tail[0])/2,(head[1] + tail[1])/2))\n",
    "\n",
    "            M = cv2.getRotationMatrix2D((center[0],center[1]),np.rad2deg(-rotation_ang),1)\n",
    "            bounds = np.array([[0,0,1],[w,0,1],[0,h,1],[w,h,1]]).T\n",
    "            bounds_rot = M.dot(bounds)\n",
    "            min_x = min(bounds_rot[0,:])\n",
    "            max_x = max(bounds_rot[0,:])\n",
    "            min_y = min(bounds_rot[1,:])\n",
    "            max_y = max(bounds_rot[1,:])    \n",
    "\n",
    "            h_new = max_y - min_y\n",
    "            w_new = max_x - min_x\n",
    "            tx = np.abs(np.min([min_x,0]))\n",
    "            ty = np.abs(np.min([min_y,0]))\n",
    "\n",
    "            tx -= np.abs(w_new - np.max([max_x,w_new]))\n",
    "            ty -= np.abs(h_new - np.max([max_y,h_new]))\n",
    "\n",
    "            bounds_rot = bounds_rot + [[tx],[ty]]\n",
    "            cosM = np.abs(M[0, 0])\n",
    "            sinM = np.abs(M[0, 1])\n",
    "\n",
    "            M[0, 2] += tx\n",
    "            M[1, 2] += ty\n",
    "\n",
    "            dst = cv2.warpAffine(image,M,(int(np.ceil(w_new)),int(np.ceil(h_new))))\n",
    "\n",
    "            head_rot = M.dot(np.vstack((head.reshape((2,1)),[1])))\n",
    "            tail_rot = M.dot(np.vstack((tail.reshape((2,1)),[1])))\n",
    "            corrdinates_rot = [head_rot[0][0]/float(dst.shape[1]),head_rot[1][0]/float(dst.shape[0]),tail_rot[0][0]/float(dst.shape[1]),tail_rot[1][0]/float(dst.shape[0])]\n",
    "\n",
    "            image = dst\n",
    "            coordinates = corrdinates_rot\n",
    "            target_map = get_belief_map(coordinates, target_map.shape , 1., 3.)\n",
    "\n",
    "            \n",
    "            copy['image'], copy['coordinates'], copy['target_map'] = image, coordinates, target_map\n",
    "\n",
    "        return copy"
   ]
  },
  {
   "cell_type": "code",
   "execution_count": 8,
   "metadata": {
    "ExecuteTime": {
     "end_time": "2018-03-03T10:01:03.024453Z",
     "start_time": "2018-03-03T10:01:02.636342Z"
    },
    "collapsed": false
   },
   "outputs": [],
   "source": [
    "transformed_dataset = PlanktonDataset(csv_file=csv_filename,\n",
    "                                      img_dir=img_dir,\n",
    "                                      transform=transforms.Compose([\n",
    "                                          RandomRotation()\n",
    "                                      ]))"
   ]
  },
  {
   "cell_type": "code",
   "execution_count": 9,
   "metadata": {
    "ExecuteTime": {
     "end_time": "2018-03-03T10:01:07.993459Z",
     "start_time": "2018-03-03T10:01:07.987786Z"
    },
    "collapsed": true
   },
   "outputs": [],
   "source": [
    "dataloader = DataLoader(transformed_dataset, batch_size=4,\n",
    "                        shuffle=True, num_workers=4)"
   ]
  },
  {
   "cell_type": "code",
   "execution_count": 10,
   "metadata": {
    "ExecuteTime": {
     "end_time": "2018-03-03T10:01:11.084524Z",
     "start_time": "2018-03-03T10:01:10.409749Z"
    },
    "collapsed": false
   },
   "outputs": [
    {
     "ename": "RuntimeError",
     "evalue": "Traceback (most recent call last):\n  File \"/home/zzuberi/zzuberi/lib/python2.7/site-packages/torch/utils/data/dataloader.py\", line 55, in _worker_loop\n    samples = collate_fn([dataset[i] for i in batch_indices])\n  File \"/home/zzuberi/zzuberi/lib/python2.7/site-packages/torch/utils/data/dataloader.py\", line 132, in default_collate\n    return {key: default_collate([d[key] for d in batch]) for key in batch[0]}\n  File \"/home/zzuberi/zzuberi/lib/python2.7/site-packages/torch/utils/data/dataloader.py\", line 132, in <dictcomp>\n    return {key: default_collate([d[key] for d in batch]) for key in batch[0]}\n  File \"/home/zzuberi/zzuberi/lib/python2.7/site-packages/torch/utils/data/dataloader.py\", line 121, in default_collate\n    return torch.stack([torch.from_numpy(b) for b in batch], 0)\n  File \"/home/zzuberi/zzuberi/lib/python2.7/site-packages/torch/functional.py\", line 64, in stack\n    return torch.cat(inputs, dim)\nRuntimeError: invalid argument 0: Sizes of tensors must match except in dimension 0. Got 193 and 277 in dimension 1 at /pytorch/torch/lib/TH/generic/THTensorMath.c:2897\n",
     "output_type": "error",
     "traceback": [
      "\u001b[1;31m---------------------------------------------------------------------------\u001b[0m",
      "\u001b[1;31mRuntimeError\u001b[0m                              Traceback (most recent call last)",
      "\u001b[1;32m<ipython-input-10-5fedf0af720e>\u001b[0m in \u001b[0;36m<module>\u001b[1;34m()\u001b[0m\n\u001b[1;32m----> 1\u001b[1;33m \u001b[1;32mfor\u001b[0m \u001b[0mi_batch\u001b[0m\u001b[1;33m,\u001b[0m \u001b[0msample_batched\u001b[0m \u001b[1;32min\u001b[0m \u001b[0menumerate\u001b[0m\u001b[1;33m(\u001b[0m\u001b[0mdataloader\u001b[0m\u001b[1;33m)\u001b[0m\u001b[1;33m:\u001b[0m\u001b[1;33m\u001b[0m\u001b[0m\n\u001b[0m\u001b[0;32m      2\u001b[0m     print(i_batch, sample_batched['image'].size(),\n\u001b[0;32m      3\u001b[0m           \u001b[0msample_batched\u001b[0m\u001b[1;33m[\u001b[0m\u001b[1;34m'coordinates'\u001b[0m\u001b[1;33m]\u001b[0m\u001b[1;33m.\u001b[0m\u001b[0msize\u001b[0m\u001b[1;33m(\u001b[0m\u001b[1;33m)\u001b[0m\u001b[1;33m,\u001b[0m\u001b[1;33m\u001b[0m\u001b[0m\n\u001b[0;32m      4\u001b[0m           \u001b[0msample_batched\u001b[0m\u001b[1;33m[\u001b[0m\u001b[1;34m'target_map'\u001b[0m\u001b[1;33m]\u001b[0m\u001b[1;33m.\u001b[0m\u001b[0msize\u001b[0m\u001b[1;33m(\u001b[0m\u001b[1;33m)\u001b[0m\u001b[1;33m,\u001b[0m\u001b[1;33m\u001b[0m\u001b[0m\n\u001b[0;32m      5\u001b[0m           sample_batched['cls'])\n",
      "\u001b[1;32m/home/zzuberi/zzuberi/lib/python2.7/site-packages/torch/utils/data/dataloader.pyc\u001b[0m in \u001b[0;36m__next__\u001b[1;34m(self)\u001b[0m\n\u001b[0;32m    279\u001b[0m                 \u001b[0mself\u001b[0m\u001b[1;33m.\u001b[0m\u001b[0mreorder_dict\u001b[0m\u001b[1;33m[\u001b[0m\u001b[0midx\u001b[0m\u001b[1;33m]\u001b[0m \u001b[1;33m=\u001b[0m \u001b[0mbatch\u001b[0m\u001b[1;33m\u001b[0m\u001b[0m\n\u001b[0;32m    280\u001b[0m                 \u001b[1;32mcontinue\u001b[0m\u001b[1;33m\u001b[0m\u001b[0m\n\u001b[1;32m--> 281\u001b[1;33m             \u001b[1;32mreturn\u001b[0m \u001b[0mself\u001b[0m\u001b[1;33m.\u001b[0m\u001b[0m_process_next_batch\u001b[0m\u001b[1;33m(\u001b[0m\u001b[0mbatch\u001b[0m\u001b[1;33m)\u001b[0m\u001b[1;33m\u001b[0m\u001b[0m\n\u001b[0m\u001b[0;32m    282\u001b[0m \u001b[1;33m\u001b[0m\u001b[0m\n\u001b[0;32m    283\u001b[0m     \u001b[0mnext\u001b[0m \u001b[1;33m=\u001b[0m \u001b[0m__next__\u001b[0m  \u001b[1;31m# Python 2 compatibility\u001b[0m\u001b[1;33m\u001b[0m\u001b[0m\n",
      "\u001b[1;32m/home/zzuberi/zzuberi/lib/python2.7/site-packages/torch/utils/data/dataloader.pyc\u001b[0m in \u001b[0;36m_process_next_batch\u001b[1;34m(self, batch)\u001b[0m\n\u001b[0;32m    299\u001b[0m         \u001b[0mself\u001b[0m\u001b[1;33m.\u001b[0m\u001b[0m_put_indices\u001b[0m\u001b[1;33m(\u001b[0m\u001b[1;33m)\u001b[0m\u001b[1;33m\u001b[0m\u001b[0m\n\u001b[0;32m    300\u001b[0m         \u001b[1;32mif\u001b[0m \u001b[0misinstance\u001b[0m\u001b[1;33m(\u001b[0m\u001b[0mbatch\u001b[0m\u001b[1;33m,\u001b[0m \u001b[0mExceptionWrapper\u001b[0m\u001b[1;33m)\u001b[0m\u001b[1;33m:\u001b[0m\u001b[1;33m\u001b[0m\u001b[0m\n\u001b[1;32m--> 301\u001b[1;33m             \u001b[1;32mraise\u001b[0m \u001b[0mbatch\u001b[0m\u001b[1;33m.\u001b[0m\u001b[0mexc_type\u001b[0m\u001b[1;33m(\u001b[0m\u001b[0mbatch\u001b[0m\u001b[1;33m.\u001b[0m\u001b[0mexc_msg\u001b[0m\u001b[1;33m)\u001b[0m\u001b[1;33m\u001b[0m\u001b[0m\n\u001b[0m\u001b[0;32m    302\u001b[0m         \u001b[1;32mreturn\u001b[0m \u001b[0mbatch\u001b[0m\u001b[1;33m\u001b[0m\u001b[0m\n\u001b[0;32m    303\u001b[0m \u001b[1;33m\u001b[0m\u001b[0m\n",
      "\u001b[1;31mRuntimeError\u001b[0m: Traceback (most recent call last):\n  File \"/home/zzuberi/zzuberi/lib/python2.7/site-packages/torch/utils/data/dataloader.py\", line 55, in _worker_loop\n    samples = collate_fn([dataset[i] for i in batch_indices])\n  File \"/home/zzuberi/zzuberi/lib/python2.7/site-packages/torch/utils/data/dataloader.py\", line 132, in default_collate\n    return {key: default_collate([d[key] for d in batch]) for key in batch[0]}\n  File \"/home/zzuberi/zzuberi/lib/python2.7/site-packages/torch/utils/data/dataloader.py\", line 132, in <dictcomp>\n    return {key: default_collate([d[key] for d in batch]) for key in batch[0]}\n  File \"/home/zzuberi/zzuberi/lib/python2.7/site-packages/torch/utils/data/dataloader.py\", line 121, in default_collate\n    return torch.stack([torch.from_numpy(b) for b in batch], 0)\n  File \"/home/zzuberi/zzuberi/lib/python2.7/site-packages/torch/functional.py\", line 64, in stack\n    return torch.cat(inputs, dim)\nRuntimeError: invalid argument 0: Sizes of tensors must match except in dimension 0. Got 193 and 277 in dimension 1 at /pytorch/torch/lib/TH/generic/THTensorMath.c:2897\n"
     ]
    }
   ],
   "source": [
    "for i_batch, sample_batched in enumerate(dataloader):\n",
    "    print(i_batch, sample_batched['image'].size(),\n",
    "          sample_batched['coordinates'].size(),\n",
    "          sample_batched['target_map'].size(),\n",
    "          sample_batched['cls'])\n",
    "\n",
    "    if i_batch == 3:\n",
    "        plt.figure()\n",
    "        show_arrow_batch(sample_batched)\n",
    "        plt.figure()\n",
    "        show_image_batch(sample_batched['target_map'])\n",
    "        plt.axis('off')\n",
    "        plt.ioff()\n",
    "        plt.show()\n",
    "        break"
   ]
  },
  {
   "cell_type": "code",
   "execution_count": 11,
   "metadata": {
    "ExecuteTime": {
     "end_time": "2018-03-03T10:02:57.623671Z",
     "start_time": "2018-03-03T10:02:57.416588Z"
    },
    "collapsed": false
   },
   "outputs": [
    {
     "ename": "RuntimeError",
     "evalue": "Traceback (most recent call last):\n  File \"/home/zzuberi/zzuberi/lib/python2.7/site-packages/torch/utils/data/dataloader.py\", line 55, in _worker_loop\n    samples = collate_fn([dataset[i] for i in batch_indices])\n  File \"/home/zzuberi/zzuberi/lib/python2.7/site-packages/torch/utils/data/dataloader.py\", line 132, in default_collate\n    return {key: default_collate([d[key] for d in batch]) for key in batch[0]}\n  File \"/home/zzuberi/zzuberi/lib/python2.7/site-packages/torch/utils/data/dataloader.py\", line 132, in <dictcomp>\n    return {key: default_collate([d[key] for d in batch]) for key in batch[0]}\n  File \"/home/zzuberi/zzuberi/lib/python2.7/site-packages/torch/utils/data/dataloader.py\", line 121, in default_collate\n    return torch.stack([torch.from_numpy(b) for b in batch], 0)\n  File \"/home/zzuberi/zzuberi/lib/python2.7/site-packages/torch/functional.py\", line 64, in stack\n    return torch.cat(inputs, dim)\nRuntimeError: invalid argument 0: Sizes of tensors must match except in dimension 0. Got 294 and 153 in dimension 1 at /pytorch/torch/lib/TH/generic/THTensorMath.c:2897\n",
     "output_type": "error",
     "traceback": [
      "\u001b[1;31m---------------------------------------------------------------------------\u001b[0m",
      "\u001b[1;31mRuntimeError\u001b[0m                              Traceback (most recent call last)",
      "\u001b[1;32m<ipython-input-11-c9a36e5a48e2>\u001b[0m in \u001b[0;36m<module>\u001b[1;34m()\u001b[0m\n\u001b[1;32m----> 1\u001b[1;33m \u001b[1;32mfor\u001b[0m \u001b[0mdata\u001b[0m \u001b[1;32min\u001b[0m \u001b[0mdataloader\u001b[0m\u001b[1;33m:\u001b[0m\u001b[1;33m\u001b[0m\u001b[0m\n\u001b[0m\u001b[0;32m      2\u001b[0m     \u001b[0minputs\u001b[0m\u001b[1;33m,\u001b[0m \u001b[0mtarget_class\u001b[0m\u001b[1;33m,\u001b[0m \u001b[0mtarget_map\u001b[0m\u001b[1;33m,\u001b[0m \u001b[0mcoordinates\u001b[0m \u001b[1;33m=\u001b[0m         \u001b[0mdata\u001b[0m\u001b[1;33m[\u001b[0m\u001b[1;34m'image'\u001b[0m\u001b[1;33m]\u001b[0m\u001b[1;33m,\u001b[0m \u001b[0mdata\u001b[0m\u001b[1;33m[\u001b[0m\u001b[1;34m'class_index'\u001b[0m\u001b[1;33m]\u001b[0m\u001b[1;33m,\u001b[0m \u001b[0mdata\u001b[0m\u001b[1;33m[\u001b[0m\u001b[1;34m'target_map'\u001b[0m\u001b[1;33m]\u001b[0m\u001b[1;33m,\u001b[0m \u001b[0mdata\u001b[0m\u001b[1;33m[\u001b[0m\u001b[1;34m'coordinates'\u001b[0m\u001b[1;33m]\u001b[0m\u001b[1;33m\u001b[0m\u001b[0m\n\u001b[0;32m      3\u001b[0m     \u001b[1;32mprint\u001b[0m\u001b[1;33m(\u001b[0m\u001b[0mtarget_class\u001b[0m\u001b[1;33m)\u001b[0m\u001b[1;33m\u001b[0m\u001b[0m\n\u001b[0;32m      4\u001b[0m     \u001b[1;32mbreak\u001b[0m\u001b[1;33m\u001b[0m\u001b[0m\n",
      "\u001b[1;32m/home/zzuberi/zzuberi/lib/python2.7/site-packages/torch/utils/data/dataloader.pyc\u001b[0m in \u001b[0;36m__next__\u001b[1;34m(self)\u001b[0m\n\u001b[0;32m    279\u001b[0m                 \u001b[0mself\u001b[0m\u001b[1;33m.\u001b[0m\u001b[0mreorder_dict\u001b[0m\u001b[1;33m[\u001b[0m\u001b[0midx\u001b[0m\u001b[1;33m]\u001b[0m \u001b[1;33m=\u001b[0m \u001b[0mbatch\u001b[0m\u001b[1;33m\u001b[0m\u001b[0m\n\u001b[0;32m    280\u001b[0m                 \u001b[1;32mcontinue\u001b[0m\u001b[1;33m\u001b[0m\u001b[0m\n\u001b[1;32m--> 281\u001b[1;33m             \u001b[1;32mreturn\u001b[0m \u001b[0mself\u001b[0m\u001b[1;33m.\u001b[0m\u001b[0m_process_next_batch\u001b[0m\u001b[1;33m(\u001b[0m\u001b[0mbatch\u001b[0m\u001b[1;33m)\u001b[0m\u001b[1;33m\u001b[0m\u001b[0m\n\u001b[0m\u001b[0;32m    282\u001b[0m \u001b[1;33m\u001b[0m\u001b[0m\n\u001b[0;32m    283\u001b[0m     \u001b[0mnext\u001b[0m \u001b[1;33m=\u001b[0m \u001b[0m__next__\u001b[0m  \u001b[1;31m# Python 2 compatibility\u001b[0m\u001b[1;33m\u001b[0m\u001b[0m\n",
      "\u001b[1;32m/home/zzuberi/zzuberi/lib/python2.7/site-packages/torch/utils/data/dataloader.pyc\u001b[0m in \u001b[0;36m_process_next_batch\u001b[1;34m(self, batch)\u001b[0m\n\u001b[0;32m    299\u001b[0m         \u001b[0mself\u001b[0m\u001b[1;33m.\u001b[0m\u001b[0m_put_indices\u001b[0m\u001b[1;33m(\u001b[0m\u001b[1;33m)\u001b[0m\u001b[1;33m\u001b[0m\u001b[0m\n\u001b[0;32m    300\u001b[0m         \u001b[1;32mif\u001b[0m \u001b[0misinstance\u001b[0m\u001b[1;33m(\u001b[0m\u001b[0mbatch\u001b[0m\u001b[1;33m,\u001b[0m \u001b[0mExceptionWrapper\u001b[0m\u001b[1;33m)\u001b[0m\u001b[1;33m:\u001b[0m\u001b[1;33m\u001b[0m\u001b[0m\n\u001b[1;32m--> 301\u001b[1;33m             \u001b[1;32mraise\u001b[0m \u001b[0mbatch\u001b[0m\u001b[1;33m.\u001b[0m\u001b[0mexc_type\u001b[0m\u001b[1;33m(\u001b[0m\u001b[0mbatch\u001b[0m\u001b[1;33m.\u001b[0m\u001b[0mexc_msg\u001b[0m\u001b[1;33m)\u001b[0m\u001b[1;33m\u001b[0m\u001b[0m\n\u001b[0m\u001b[0;32m    302\u001b[0m         \u001b[1;32mreturn\u001b[0m \u001b[0mbatch\u001b[0m\u001b[1;33m\u001b[0m\u001b[0m\n\u001b[0;32m    303\u001b[0m \u001b[1;33m\u001b[0m\u001b[0m\n",
      "\u001b[1;31mRuntimeError\u001b[0m: Traceback (most recent call last):\n  File \"/home/zzuberi/zzuberi/lib/python2.7/site-packages/torch/utils/data/dataloader.py\", line 55, in _worker_loop\n    samples = collate_fn([dataset[i] for i in batch_indices])\n  File \"/home/zzuberi/zzuberi/lib/python2.7/site-packages/torch/utils/data/dataloader.py\", line 132, in default_collate\n    return {key: default_collate([d[key] for d in batch]) for key in batch[0]}\n  File \"/home/zzuberi/zzuberi/lib/python2.7/site-packages/torch/utils/data/dataloader.py\", line 132, in <dictcomp>\n    return {key: default_collate([d[key] for d in batch]) for key in batch[0]}\n  File \"/home/zzuberi/zzuberi/lib/python2.7/site-packages/torch/utils/data/dataloader.py\", line 121, in default_collate\n    return torch.stack([torch.from_numpy(b) for b in batch], 0)\n  File \"/home/zzuberi/zzuberi/lib/python2.7/site-packages/torch/functional.py\", line 64, in stack\n    return torch.cat(inputs, dim)\nRuntimeError: invalid argument 0: Sizes of tensors must match except in dimension 0. Got 294 and 153 in dimension 1 at /pytorch/torch/lib/TH/generic/THTensorMath.c:2897\n"
     ]
    }
   ],
   "source": [
    "for data in dataloader:\n",
    "    inputs, target_class, target_map, coordinates = \\\n",
    "        data['image'], data['class_index'], data['target_map'], data['coordinates']\n",
    "    print(target_class)\n",
    "    break"
   ]
  },
  {
   "cell_type": "code",
   "execution_count": 6,
   "metadata": {
    "collapsed": true
   },
   "outputs": [],
   "source": [
    "%matplotlib inline\n",
    "def show_arrow(image, coordinates, cls):\n",
    "    if isinstance(image, (np.ndarray, list)):\n",
    "        image = np.copy(image)\n",
    "    elif isinstance(image, torch.FloatTensor):\n",
    "        image = (image.numpy()).transpose((1, 2, 0)).copy()\n",
    "\n",
    "    if isinstance(coordinates, torch.FloatTensor):\n",
    "        coordinates = coordinates.numpy()\n",
    "\n",
    "    height, width = image.shape[:2]\n",
    "    head = (int(coordinates[0] * width), int(coordinates[1] * height))\n",
    "    tail = (int(coordinates[2] * width), int(coordinates[3] * height))\n",
    "    cv2.arrowedLine(image, tail, head, (1., 0., 0.), 3)\n",
    "    plt.imshow(image)\n",
    "    plt.axis('off')\n",
    "    plt.title(cls)\n",
    "    plt.pause(0.001)"
   ]
  },
  {
   "cell_type": "code",
   "execution_count": 10,
   "metadata": {
    "collapsed": false
   },
   "outputs": [
    {
     "data": {
      "image/png": "[encoded data removed]",
      "text/plain": [
       "<Figure size 600x400 with 1 Axes>"
      ]
     },
     "metadata": {},
     "output_type": "display_data"
    },
    {
     "data": {
      "image/png": "[encoded data removed]",
      "text/plain": [
       "<Figure size 600x400 with 1 Axes>"
      ]
     },
     "metadata": {},
     "output_type": "display_data"
    }
   ],
   "source": [
    "def test(sample, tsfms):\n",
    "    original = EmptyTransform()\n",
    "\n",
    "    n = len(tsfms) + 1\n",
    "    r = int(np.sqrt(n))\n",
    "    c = np.ceil(1.0 * n / r)\n",
    "\n",
    "    for i, tsfm in enumerate([original] + tsfms):\n",
    "        transformed_sample = tsfm(sample)\n",
    "\n",
    "        ax = plt.subplot(r, c, i + 1)\n",
    "        show_arrow(transformed_sample['image'], transformed_sample['coordinates'], transformed_sample['cls'])\n",
    "        ax.set_title(type(tsfm).__name__)\n",
    "img_dir = '/data5/Plankton_wi18/rawcolor_db2/images'\n",
    "csv_filename = '/data5/lekevin/plankton/poseprediction/poseprediction_torch/data/4/data_train_0.csv'\n",
    "plankton_dataset = PlanktonDataset(csv_file=csv_filename,\n",
    "                                   img_dir=img_dir)\n",
    "\n",
    "# print(plankton_dataset.__dict__)\n",
    "scale = Rescale((224, 224))\n",
    "hflip = RandomHorizontalFlip()\n",
    "vflip = RandomVerticalFlip()\n",
    "rotate = RandomRotation(randomAngle,[0,2*np.pi])\n",
    "composed = transforms.Compose([hflip, vflip,rotate, Rescale((224, 224))])\n",
    "# print(composed)\n",
    "plt.close('all')\n",
    "plt.figure()\n",
    "test(plankton_dataset[3], [rotate])\n",
    "\n",
    "plt.show()"
   ]
  },
  {
   "cell_type": "code",
   "execution_count": 7,
   "metadata": {
    "collapsed": false
   },
   "outputs": [],
   "source": [
    "import cv2\n",
    "import torch\n",
    "import numpy as np\n",
    "\n",
    "class Rescale(object):\n",
    "    def __init__(self, output_size):\n",
    "        assert isinstance(output_size, (int, tuple))\n",
    "        self.output_size = output_size\n",
    "\n",
    "    def __call__(self, sample):\n",
    "        image = sample['image']\n",
    "\n",
    "        h, w = image.shape[:2]\n",
    "        if isinstance(self.output_size, int):\n",
    "            if h > w:\n",
    "                new_h, new_w = self.output_size * h / w, self.output_size\n",
    "            else:\n",
    "                new_h, new_w = self.output_size, self.output_size * w / h\n",
    "        else:\n",
    "            new_h, new_w = self.output_size\n",
    "\n",
    "        new_h, new_w = int(new_h), int(new_w)\n",
    "\n",
    "        image = cv2.resize(image, (new_w, new_h))\n",
    "\n",
    "        copy = {key: sample[key] for key in sample}\n",
    "        copy['image'] = image\n",
    "\n",
    "        return copy\n",
    "\n",
    "\n",
    "class ToTensor(object):\n",
    "    def __call__(self, sample):\n",
    "        image_name, image, coordinates, cls, class_index, target_map = \\\n",
    "            sample['image_name'], sample['image'], sample['coordinates'], sample['cls'], sample['class_index'], sample['target_map']\n",
    "\n",
    "        image = image.transpose((2, 0, 1))\n",
    "\n",
    "        return {'image_name': image_name,\n",
    "                'image': torch.from_numpy(image),\n",
    "                'coordinates': torch.from_numpy(coordinates),\n",
    "                'cls': cls,\n",
    "                'class_index': class_index,\n",
    "                'target_map': torch.from_numpy(target_map)}\n",
    "\n",
    "\n",
    "class RandomHorizontalFlip(object):\n",
    "    def __call__(self, sample, flip_prob=0.5):\n",
    "        image, coordinates, target_map = sample['image'], sample['coordinates'], sample['target_map']\n",
    "\n",
    "        if np.random.rand() < flip_prob:\n",
    "            image = image[:, ::-1, :].copy()\n",
    "            coordinates = np.asarray([\n",
    "                1 - coordinates[0], coordinates[1],\n",
    "                1 - coordinates[2], coordinates[3]])\n",
    "            target_map = target_map[:, :, ::-1].copy()\n",
    "\n",
    "        copy = {key: sample[key] for key in sample}\n",
    "        copy['image'], copy['coordinates'], copy['target_map'] = image, coordinates, target_map\n",
    "\n",
    "        return copy\n",
    "\n",
    "\n",
    "class RandomVerticalFlip(object):\n",
    "    def __call__(self, sample, flip_prob=0.5):\n",
    "        image, coordinates, target_map = sample['image'], sample['coordinates'], sample['target_map']\n",
    "\n",
    "        if np.random.rand() < flip_prob:\n",
    "            image = image[::-1, :, :].copy()\n",
    "            coordinates = np.asarray([\n",
    "                coordinates[0], 1 - coordinates[1],\n",
    "                coordinates[2], 1 - coordinates[3]])\n",
    "            target_map = target_map[:, ::-1, :].copy()\n",
    "\n",
    "        copy = {key: sample[key] for key in sample}\n",
    "        copy['image'], copy['coordinates'], copy['target_map'] = image, coordinates, target_map\n",
    "\n",
    "        return copy\n",
    "\n",
    "\n",
    "class Normalize(object):\n",
    "    def __init__(self, mean, std):\n",
    "        self.mean = mean\n",
    "        self.std = std\n",
    "\n",
    "    def __call__(self, sample):\n",
    "        \"\"\"\n",
    "        Args:\n",
    "            tensor (Tensor): Tensor image of size (C, H, W) to be normalized.\n",
    "\n",
    "        Returns:\n",
    "            Tensor: Normalized image.\n",
    "        \"\"\"\n",
    "        image = sample['image']\n",
    "\n",
    "        for t, m, s in zip(image, self.mean, self.std):\n",
    "            t.sub_(m).div_(s)\n",
    "\n",
    "        copy = {key: sample[key] for key in sample}\n",
    "        copy['image'] = image\n",
    "\n",
    "        return copy\n",
    "\n",
    "    def recover(self, sample):\n",
    "        image = sample['image'].clone()\n",
    "\n",
    "        for t, m, s in zip(image, self.mean, self.std):\n",
    "            t.add_(m).mul_(s)\n",
    "\n",
    "        copy = {key: sample[key] for key in sample}\n",
    "        copy['image'] = image\n",
    "\n",
    "        return copy\n",
    "\n",
    "\n",
    "class EmptyTransform(object):\n",
    "    def __call__(self, sample):\n",
    "        return sample\n",
    "\n",
    "\n"
   ]
  },
  {
   "cell_type": "code",
   "execution_count": null,
   "metadata": {
    "collapsed": true
   },
   "outputs": [],
   "source": []
  }
 ],
 "metadata": {
  "kernelspec": {
   "display_name": "Python 2",
   "language": "python",
   "name": "python2"
  },
  "language_info": {
   "codemirror_mode": {
    "name": "ipython",
    "version": 2
   },
   "file_extension": ".py",
   "mimetype": "text/x-python",
   "name": "python",
   "nbconvert_exporter": "python",
   "pygments_lexer": "ipython2",
   "version": "2.7.6"
  },
  "varInspector": {
   "cols": {
    "lenName": 16,
    "lenType": 16,
    "lenVar": 40
   },
   "kernels_config": {
    "python": {
     "delete_cmd_postfix": "",
     "delete_cmd_prefix": "del ",
     "library": "var_list.py",
     "varRefreshCmd": "print(var_dic_list())"
    },
    "r": {
     "delete_cmd_postfix": ") ",
     "delete_cmd_prefix": "rm(",
     "library": "var_list.r",
     "varRefreshCmd": "cat(var_dic_list()) "
    }
   },
   "types_to_exclude": [
    "module",
    "function",
    "builtin_function_or_method",
    "instance",
    "_Feature"
   ],
   "window_display": false
  }
 },
 "nbformat": 4,
 "nbformat_minor": 2
}
